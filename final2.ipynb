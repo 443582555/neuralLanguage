{
 "cells": [
  {
   "cell_type": "code",
   "execution_count": 3,
   "metadata": {
    "collapsed": true
   },
   "outputs": [],
   "source": [
    "import re\n",
    "import logging\n",
    "\n",
    "import numpy as np\n",
    "import pandas as pd\n",
    "import spacy\n",
    "import torch\n",
    "from torchtext import data\n",
    "\n",
    "NLP = spacy.load('en')\n",
    "MAX_CHARS = 20000\n",
    "VAL_RATIO = 0.2\n",
    "LOGGER = logging.getLogger(\"toxic_dataset\")\n",
    "\n",
    "\n",
    "def tokenizer(comment):\n",
    "    comment = re.sub(\n",
    "        r\"[\\*\\\"“”\\n\\\\…\\+\\-\\/\\=\\(\\)‘•:\\[\\]\\|’\\!;]\", \" \", str(comment))\n",
    "    comment = re.sub(r\"[ ]+\", \" \", comment)\n",
    "    comment = re.sub(r\"\\!+\", \"!\", comment)\n",
    "    comment = re.sub(r\"\\,+\", \",\", comment)\n",
    "    comment = re.sub(r\"\\?+\", \"?\", comment)\n",
    "    if (len(comment) > MAX_CHARS):\n",
    "        comment = comment[:MAX_CHARS]\n",
    "    return [x.text for x in NLP.tokenizer(comment) if x.text != \" \"]\n",
    "\n",
    "\n",
    "def prepare_csv(seed=999):\n",
    "    df_train = pd.read_csv(\"data/train.csv\")\n",
    "    df_train[\"comment_text\"] = df_train.comment_text.str.replace(\"\\n\", \" \")\n",
    "    idx = np.arange(df_train.shape[0])\n",
    "    np.random.seed(seed)\n",
    "    np.random.shuffle(idx)\n",
    "    val_size = int(len(idx) * VAL_RATIO)\n",
    "    df_train.iloc[idx[val_size:], :].to_csv(\n",
    "        \"cache/dataset_train.csv\", index=False)\n",
    "    df_train.iloc[idx[:val_size], :].to_csv(\n",
    "        \"cache/dataset_val.csv\", index=False)\n",
    "    df_test = pd.read_csv(\"data/test.csv\")\n",
    "    df_test[\"comment_text\"] = df_test.comment_text.str.replace(\"\\n\", \" \")\n",
    "    df_test.to_csv(\"cache/dataset_test.csv\", index=False)\n",
    "\n",
    "\n",
    "def get_dataset(fix_length=100, lower=False, vectors=None):\n",
    "    if vectors is not None:\n",
    "        # pretrain vectors only supports all lower cases\n",
    "        lower = True\n",
    "    LOGGER.debug(\"Preparing CSV files...\")\n",
    "    prepare_csv()\n",
    "    comment = data.Field(\n",
    "        sequential=True,\n",
    "        fix_length=fix_length,\n",
    "        tokenize=tokenizer,\n",
    "        pad_first=True,\n",
    "        tensor_type=torch.cuda.LongTensor,\n",
    "        lower=lower\n",
    "    )\n",
    "    LOGGER.debug(\"Reading train csv file...\")\n",
    "    train, val = data.TabularDataset.splits(\n",
    "        path='cache/', format='csv', skip_header=True,\n",
    "        train='dataset_train.csv', validation='dataset_val.csv',\n",
    "        fields=[\n",
    "            ('id', None),\n",
    "            ('comment_text', comment),\n",
    "            ('toxic', data.Field(\n",
    "                use_vocab=False, sequential=False, tensor_type=torch.cuda.ByteTensor)),\n",
    "            ('severe_toxic', data.Field(\n",
    "                use_vocab=False, sequential=False, tensor_type=torch.cuda.ByteTensor)),\n",
    "            ('obscene', data.Field(\n",
    "                use_vocab=False, sequential=False, tensor_type=torch.cuda.ByteTensor)),\n",
    "            ('threat', data.Field(\n",
    "                use_vocab=False, sequential=False, tensor_type=torch.cuda.ByteTensor)),\n",
    "            ('insult', data.Field(\n",
    "                use_vocab=False, sequential=False, tensor_type=torch.cuda.ByteTensor)),\n",
    "            ('identity_hate', data.Field(\n",
    "                use_vocab=False, sequential=False, tensor_type=torch.cuda.ByteTensor)),\n",
    "        ])\n",
    "    LOGGER.debug(\"Reading test csv file...\")\n",
    "    test = data.TabularDataset(\n",
    "        path='cache/dataset_test.csv', format='csv', skip_header=True,\n",
    "        fields=[\n",
    "            ('id', None),\n",
    "            ('comment_text', comment)\n",
    "        ])\n",
    "    LOGGER.debug(\"Building vocabulary...\")\n",
    "    comment.build_vocab(\n",
    "        train, val, test,\n",
    "        max_size=20000,\n",
    "        min_freq=50,\n",
    "        vectors=vectors\n",
    "    )\n",
    "    LOGGER.debug(\"Done preparing the datasets\")\n",
    "    return train, val, test,comment\n",
    "\n",
    "\n",
    "def get_iterator(dataset, batch_size, train=True, shuffle=True, repeat=False):\n",
    "    dataset_iter = data.Iterator(\n",
    "        dataset, batch_size=batch_size, device=0,\n",
    "        train=train, shuffle=shuffle, repeat=repeat,\n",
    "        sort=False\n",
    "    )\n",
    "    return dataset_iter"
   ]
  },
  {
   "cell_type": "code",
   "execution_count": 4,
   "metadata": {
    "collapsed": true
   },
   "outputs": [],
   "source": [
    "train,val,test,comment_field = get_dataset(vectors = 'glove.42B.300d')"
   ]
  },
  {
   "cell_type": "code",
   "execution_count": null,
   "metadata": {
    "collapsed": true
   },
   "outputs": [],
   "source": []
  },
  {
   "cell_type": "code",
   "execution_count": 5,
   "metadata": {
    "collapsed": true
   },
   "outputs": [],
   "source": [
    "train_iter,val_iter,test_iter = data.Iterator.splits((train,val,test),sort_key = lambda x:len(x.Text), batch_sizes = (32,256,256),device=0)"
   ]
  },
  {
   "cell_type": "code",
   "execution_count": null,
   "metadata": {
    "collapsed": true
   },
   "outputs": [],
   "source": []
  },
  {
   "cell_type": "code",
   "execution_count": null,
   "metadata": {
    "collapsed": true
   },
   "outputs": [],
   "source": []
  },
  {
   "cell_type": "code",
   "execution_count": 6,
   "metadata": {
    "collapsed": true
   },
   "outputs": [],
   "source": [
    "import torch\n",
    "from torch.autograd import Variable\n",
    "import torch.nn as nn\n",
    "import torch.nn.functional as F\n",
    "\n",
    "\n",
    "class BiLSTMSentiment(nn.Module):\n",
    "\n",
    "    def __init__(self,embedding_dim, hidden_dim,vocab, label_size, use_gpu, batch_size, dropout=0.5):\n",
    "        super(BiLSTMSentiment, self).__init__()\n",
    "        self.hidden_dim = hidden_dim\n",
    "        self.use_gpu = use_gpu\n",
    "        self.batch_size = batch_size\n",
    "        self.dropout = dropout\n",
    "        self.embeddings = nn.Embedding(len(vocab), embedding_dim)\n",
    "        self.embeddings.weight.data.copy_(vocab.vectors)\n",
    "        self.lstm = nn.LSTM(input_size=embedding_dim, hidden_size=hidden_dim, bidirectional=True)\n",
    "        self.hidden2label = nn.Linear(hidden_dim*2, label_size)\n",
    "        self.hidden=[]\n",
    "\n",
    "    def init_hidden(self):\n",
    "        # first is the hidden h\n",
    "        # second is the cell c\n",
    "        if self.use_gpu:\n",
    "            self.hidden = (Variable(torch.zeros(2, self.batch_size, self.hidden_dim).cuda()),\n",
    "                    Variable(torch.zeros(2, self.batch_size, self.hidden_dim).cuda()))\n",
    "        else:\n",
    "            self.hidden=(Variable(torch.zeros(2, self.batch_size, self.hidden_dim)),\n",
    "                    Variable(torch.zeros(2, self.batch_size, self.hidden_dim)))\n",
    "            \n",
    "        return self.hidden\n",
    "    def update_hidden(self,h):\n",
    "        self.hidden = h\n",
    "\n",
    "    def forward(self, sentence,hidden):\n",
    "        self.update_hidden(hidden)\n",
    "        x = self.embeddings(sentence).view(len(sentence), self.embeddings(sentence).shape[1], -1)\n",
    "        lstm_out, self.hidden = self.lstm(x, self.hidden)\n",
    "        y =self.hidden2label(lstm_out[-1])\n",
    "        return y\n",
    "    "
   ]
  },
  {
   "cell_type": "code",
   "execution_count": 7,
   "metadata": {
    "collapsed": true
   },
   "outputs": [],
   "source": [
    "Embedding_dim = 300\n",
    "EPOCHS=10\n",
    "Hidden_dim = 100\n",
    "vocab = comment_field.vocab\n",
    "label_size=6\n",
    "use_gpu=True\n",
    "batch_size=32"
   ]
  },
  {
   "cell_type": "markdown",
   "metadata": {},
   "source": []
  },
  {
   "cell_type": "code",
   "execution_count": null,
   "metadata": {
    "collapsed": true
   },
   "outputs": [],
   "source": [
    "\n"
   ]
  },
  {
   "cell_type": "code",
   "execution_count": 8,
   "metadata": {
    "collapsed": true
   },
   "outputs": [],
   "source": [
    "\n",
    "mModal = BiLSTMSentiment(Embedding_dim,Hidden_dim,vocab,label_size,use_gpu,batch_size).cuda()\n",
    "hidden = mModal.init_hidden()\n",
    "loss_function = nn.BCEWithLogitsLoss()\n",
    "optimizer = torch.optim.Adam(mModal.parameters(), lr=1e-3)"
   ]
  },
  {
   "cell_type": "code",
   "execution_count": 9,
   "metadata": {
    "collapsed": true
   },
   "outputs": [],
   "source": [
    "def repackage_hidden(h):\n",
    "    if type(h)==Variable:\n",
    "        return Variable(h.data)\n",
    "    else:\n",
    "        return tuple(repackage_hidden(v) for v in h)"
   ]
  },
  {
   "cell_type": "code",
   "execution_count": 10,
   "metadata": {},
   "outputs": [
    {
     "name": "stdout",
     "output_type": "stream",
     "text": [
      "0.07722387316217647\n",
      "0.053533516925992446\n",
      "0.05038001599954441\n"
     ]
    },
    {
     "name": "stderr",
     "output_type": "stream",
     "text": [
      "/home/yifu/anaconda3/envs/pytorch/lib/python3.6/site-packages/ipykernel_launcher.py:5: DeprecationWarning: generator 'Iterator.__iter__' raised StopIteration\n",
      "  \"\"\"\n"
     ]
    },
    {
     "name": "stdout",
     "output_type": "stream",
     "text": [
      "0.04207353544735815\n",
      "0.041430541536130475\n",
      "0.04051072784411372\n",
      "0.03464072698538075\n",
      "0.0335385150712973\n",
      "0.03305796375125646\n",
      "0.027941047203443304\n",
      "0.02704843313423771\n",
      "0.026435231695366383\n",
      "0.021945717821487052\n",
      "0.021475788867210212\n",
      "0.020778230381198227\n",
      "0.017156847309192015\n",
      "0.016758111026270853\n",
      "0.015786359115980305\n",
      "0.013114884194586921\n",
      "0.012935129411137496\n",
      "0.012148208501664157\n",
      "0.010153502168445811\n",
      "0.009794592892301807\n",
      "0.009178223835046538\n",
      "0.007859313570244695\n",
      "0.007469604278442375\n",
      "0.006903690025037236\n",
      "0.006581825571857223\n",
      "0.006300735952704486\n",
      "0.005767124114170769\n"
     ]
    }
   ],
   "source": [
    "all_lossses=[]\n",
    "for epoch in range(EPOCHS):\n",
    "    index=0\n",
    "    g_loss=0\n",
    "    for examples in get_iterator(train,batch_size=32,train=True,shuffle=True,repeat=False):\n",
    "        optimizer.zero_grad()\n",
    "        x = examples.comment_text\n",
    "        y = torch.stack([\n",
    "            examples.toxic,examples.severe_toxic,examples.obscene,examples.threat,examples.insult,examples.identity_hate\n",
    "        ],dim=1) \n",
    "        if(y.shape[0]<batch_size):\n",
    "            continue\n",
    "        hidden=repackage_hidden(hidden)\n",
    "        \n",
    "        y_hat=mModal(x ,hidden)\n",
    "        loss = loss_function(y_hat,y.float())\n",
    "        \n",
    "        loss.backward()\n",
    "        optimizer.step()\n",
    "        index+=1\n",
    "        g_loss+=loss.data[0]\n",
    "        if index%1000==0:\n",
    "            all_lossses.append(loss/1000)\n",
    "            print(g_loss/1000)\n",
    "            g_loss=0\n",
    "        \n",
    "        "
   ]
  },
  {
   "cell_type": "code",
   "execution_count": 12,
   "metadata": {},
   "outputs": [
    {
     "data": {
      "text/plain": [
       "[<matplotlib.lines.Line2D at 0x7ff5d396e390>]"
      ]
     },
     "execution_count": 12,
     "metadata": {},
     "output_type": "execute_result"
    },
    {
     "data": {
      "image/png": "[encoded data removed]",
      "text/plain": [
       "<matplotlib.figure.Figure at 0x7ff5d3cd1dd8>"
      ]
     },
     "metadata": {},
     "output_type": "display_data"
    }
   ],
   "source": [
    "import matplotlib.pyplot as plt\n",
    "import matplotlib.ticker as ticker\n",
    "\n",
    "plt.figure()\n",
    "plt.plot(all_lossses)"
   ]
  },
  {
   "cell_type": "code",
   "execution_count": null,
   "metadata": {
    "collapsed": true
   },
   "outputs": [],
   "source": []
  },
  {
   "cell_type": "code",
   "execution_count": null,
   "metadata": {
    "collapsed": true
   },
   "outputs": [],
   "source": []
  },
  {
   "cell_type": "code",
   "execution_count": null,
   "metadata": {
    "collapsed": true
   },
   "outputs": [],
   "source": [
    "for examples in get_iterator(train,batch_size=len(train),train=True,shuffle=True,repeat=False):\n",
    "    x = examples.comment_text\n",
    "        \n",
    "    y = torch.stack([\n",
    "            examples.toxic,examples.severe_toxic,examples.obscene,examples.threat,examples.insult,examples.identity_hate\n",
    "        ],dim=1) \n",
    "        \n",
    "    hidden=repackage_hidden(hidden)\n",
    "    output, hidden = mModal(x, hidden)\n",
    "    \n",
    "    acc = get_Accurcy(output,y)\n",
    "    \n",
    "    \n",
    "    "
   ]
  },
  {
   "cell_type": "code",
   "execution_count": 2,
   "metadata": {},
   "outputs": [],
   "source": [
    "a=[[1,2,3],[4,5,6]]"
   ]
  },
  {
   "cell_type": "code",
   "execution_count": 3,
   "metadata": {},
   "outputs": [
    {
     "data": {
      "text/plain": [
       "[4, 5, 6]"
      ]
     },
     "execution_count": 3,
     "metadata": {},
     "output_type": "execute_result"
    }
   ],
   "source": [
    "a[-1]"
   ]
  },
  {
   "cell_type": "code",
   "execution_count": null,
   "metadata": {
    "collapsed": true
   },
   "outputs": [],
   "source": []
  }
 ],
 "metadata": {
  "kernelspec": {
   "display_name": "python3.6",
   "language": "python",
   "name": "python3.6"
  },
  "language_info": {
   "codemirror_mode": {
    "name": "ipython",
    "version": 3
   },
   "file_extension": ".py",
   "mimetype": "text/x-python",
   "name": "python",
   "nbconvert_exporter": "python",
   "pygments_lexer": "ipython3",
   "version": "3.6.4"
  }
 },
 "nbformat": 4,
 "nbformat_minor": 2
}
